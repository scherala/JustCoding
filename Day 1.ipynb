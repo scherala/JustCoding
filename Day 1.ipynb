{
 "cells": [
  {
   "cell_type": "markdown",
   "metadata": {},
   "source": [
    "Problem Definition: Given an array of strings names of size n. You will create n folders in your file system such that, at the ith minute, you will create a folder with the name names[i].\n",
    "\n",
    "Since two files cannot have the same name, if you enter a folder name which is previously used, the system will have a suffix addition to its name in the form of (k), where, k is the smallest positive integer such that the obtained name remains unique.\n",
    "\n",
    "Return an array of strings of length n where ans[i] is the actual name the system will assign to the ith folder when you create it."
   ]
  },
  {
   "cell_type": "code",
   "execution_count": 2,
   "metadata": {},
   "outputs": [],
   "source": [
    "# So how do I start with this? I have an array that has n strings.\n",
    "# I need to create n folders in my file system such that at ith minute, I would need to create a folder with name\n",
    "# in array[i].Why is this given? - Need to realise I can't check if the name is already taken because it would\n",
    "# take O(n) time. I need to look something up in O(1) time!!\n"
   ]
  },
  {
   "cell_type": "code",
   "execution_count": 23,
   "metadata": {},
   "outputs": [],
   "source": [
    "def getFolderNames(names):\n",
    "    # edge case - Tip: you must ask yourself \"Can input be empty? If so what needs to be returned\"\n",
    "    if not names:\n",
    "        return []\n",
    "    # So input is not empty, we are happy:)\n",
    "    \n",
    "    # Need a place to store all the created folders - so a list? \n",
    "    folder_names = []\n",
    "    \n",
    "    # A dict to store all assigned names with k as the value.\n",
    "    temp_names = {}\n",
    "    \n",
    "    for name in names:\n",
    "        if name in temp_names:\n",
    "            temp_names[name] += 1\n",
    "            temp_name = name+\"(\"+str(temp_names[name])+\")\"\n",
    "            while temp_name in temp_names:\n",
    "                temp_names[name] += 1\n",
    "                temp_name = name+\"(\"+str(temp_names[name])+\")\"\n",
    "            temp_names[temp_name] = 0\n",
    "            folder_names.append(temp_name)\n",
    "        else:\n",
    "            temp_names[name] = 0\n",
    "            folder_names.append(name)\n",
    "    return folder_names\n",
    "    "
   ]
  },
  {
   "cell_type": "code",
   "execution_count": 22,
   "metadata": {},
   "outputs": [
    {
     "data": {
      "text/plain": [
       "['f1', 'f2', 'f3', 'f1(1)']"
      ]
     },
     "execution_count": 22,
     "metadata": {},
     "output_type": "execute_result"
    }
   ],
   "source": [
    "getFolderNames(['f1','f2','f3','f1'])"
   ]
  }
 ],
 "metadata": {
  "kernelspec": {
   "display_name": "Python 3",
   "language": "python",
   "name": "python3"
  },
  "language_info": {
   "codemirror_mode": {
    "name": "ipython",
    "version": 3
   },
   "file_extension": ".py",
   "mimetype": "text/x-python",
   "name": "python",
   "nbconvert_exporter": "python",
   "pygments_lexer": "ipython3",
   "version": "3.7.1"
  }
 },
 "nbformat": 4,
 "nbformat_minor": 2
}
